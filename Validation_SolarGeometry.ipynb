{
 "cells": [
  {
   "cell_type": "code",
   "execution_count": 1,
   "metadata": {},
   "outputs": [],
   "source": [
    "from pvutils import pvutils as pvu\n",
    "import math\n",
    "import datetime\n",
    "import pytz\n",
    "from datetime import datetime\n",
    "import numpy as np\n",
    "import pandas as pd\n",
    "# ejemplo: America/Vancouver'"
   ]
  },
  {
   "cell_type": "code",
   "execution_count": 2,
   "metadata": {},
   "outputs": [
    {
     "data": {
      "text/plain": [
       "Timestamp('2023-10-16 10:00:00')"
      ]
     },
     "execution_count": 2,
     "metadata": {},
     "output_type": "execute_result"
    }
   ],
   "source": [
    "# Parametro de ejemplo_:\n",
    "\n",
    "# Buenos Aires\n",
    "ls = 60    # longitud meridiana\n",
    "le= 58.48  # 58°29' W\n",
    "\n",
    "\n",
    "# fecha1 = pd.date_range('2023-10-16 12:00:00', '2023-10-16 12:00:00')\n",
    "\n",
    "fecha1 = pd.to_datetime('2023-10-16 10:00:00', format='%Y-%m-%d %H:%M:%S')\n",
    "\n",
    "\n",
    "fecha1\n",
    "\n"
   ]
  },
  {
   "cell_type": "code",
   "execution_count": 3,
   "metadata": {},
   "outputs": [
    {
     "data": {
      "text/plain": [
       "'\\nnota:\\n\\nEl dia juliano no es necesarion el TZ. creo,. \\n\\n'"
      ]
     },
     "execution_count": 3,
     "metadata": {},
     "output_type": "execute_result"
    }
   ],
   "source": [
    "# Día juviano_:\n",
    "\n",
    "# for fecha0 in fecha1:\n",
    "#     print(pvu.julian_day(fecha0,TZ='America/Vancouver')) # dia del año\n",
    "\n",
    "\n",
    "Dj = pvu.julian_day(fecha1,TZ='America/Argentina/Buenos_Aires') # dia del año\n",
    "\n",
    "\"\"\"\n",
    "nota:\n",
    "\n",
    "El dia juliano no es necesarion el TZ. creo,. \n",
    "\n",
    "\"\"\"\n",
    "\n"
   ]
  },
  {
   "cell_type": "code",
   "execution_count": 4,
   "metadata": {},
   "outputs": [],
   "source": [
    "# Ángulo diario_:\n",
    "\n",
    "# for fecha0 in fecha1:\n",
    "#     print(pvu.angulo_diario(fecha0,unit='rad'))\n",
    "\n",
    "Adia = pvu.angulo_diario(fecha1,unit='rad')"
   ]
  },
  {
   "cell_type": "code",
   "execution_count": 5,
   "metadata": {},
   "outputs": [],
   "source": [
    "# Ecuacion del tiempo_:\n",
    "\n",
    "# for fecha0 in fecha1:\n",
    "#     print(pvu.ecc_del_tiempo(pvu.angulo_diario(fecha0,unit='rad')))\n",
    "\n",
    "Et = pvu.ecc_del_tiempo(Adia,unit='rad')\n"
   ]
  },
  {
   "attachments": {},
   "cell_type": "markdown",
   "metadata": {},
   "source": [
    "## Tiempo solar verdadero"
   ]
  },
  {
   "cell_type": "code",
   "execution_count": 6,
   "metadata": {},
   "outputs": [
    {
     "data": {
      "text/plain": [
       "datetime.datetime(2023, 10, 16, 10, 14, 37, tzinfo=<DstTzInfo 'America/Argentina/Buenos_Aires' LMT-1 day, 20:06:00 STD>)"
      ]
     },
     "execution_count": 6,
     "metadata": {},
     "output_type": "execute_result"
    }
   ],
   "source": [
    "# Tiempo Solar Verdadero_:\n",
    "\n",
    "# Tsolar = pvu.tiempo_solar_verdadero(hora_local_std = hra, utc= 'America/Vancouver', ecc_del_tiempo= Et, long_meridian= ls, long_ubicacion= le )\n",
    "\n",
    "Tsolar = pvu.tsv(hora_local_std = fecha1, utc= 'America/Argentina/Buenos_Aires', ecc_del_tiempo= 14.62, long_meridian= ls, long_ubicacion= le )\n",
    "\n",
    "Tsolar"
   ]
  },
  {
   "cell_type": "code",
   "execution_count": null,
   "metadata": {},
   "outputs": [],
   "source": [
    "#Tiempo Solar Verdadero:\n",
    "\n",
    "# Tsolar = pvu.tiempo_solar_verdadero(hora_local_std = hra, utc= 'America/Vancouver', ecc_del_tiempo= Et, long_meridian= ls, long_ubicacion= le )\n",
    "\n",
    "hra = datetime(2023, 1, 1, 12, 0, 0)\n",
    "\n",
    "Tsolar = pvu.tsv(hora_local_std = hra, utc= 'America/Argentina/Buenos_Aires', ecc_del_tiempo= Et, long_meridian= ls, long_ubicacion= le )\n",
    "\n",
    "# Imprimir en formato string DD/MM/YYYY HH:MM:SS\n",
    "Tsolar.strftime('%d/%m/%Y %H:%M:%S')"
   ]
  },
  {
   "cell_type": "code",
   "execution_count": null,
   "metadata": {},
   "outputs": [],
   "source": [
    "def tsv2(hora_local_std: datetime, utc: str, ecc_del_tiempo: float, long_meridian: float, long_ubicacion: float) -> float:\n",
    "    \"\"\"\n",
    "    Calcula el tiempo solar verdadero (TSV) para una hora local dada.\n",
    "\n",
    "    Args:\n",
    "        hora_local: hora local (datetime)\n",
    "        utc: zona horaria, valor por defecto 'UTC'\n",
    "        ecc_del_tiempo: ecuación del tiempo (minutos)\n",
    "        long_meridian: longitud del meridiano (grados o radianes)\n",
    "        long_ubicacion: longitud de la ubicación (grados o radianes)\n",
    "        unit: unidades del ángulo ('deg' para grados o 'rad' para radianes)\n",
    "    Returns:\n",
    "        tiempo_solar_verdadero: tiempo solar verdadero (datetime)\n",
    "    \"\"\"\n",
    "    hora_local_std = hora_local_std.replace(tzinfo=pytz.timezone(utc))\n",
    "    # compute the TSV in minutes\n",
    "    tsv = hora_local_std.hour*60 + hora_local_std.minute + hora_local_std.second/60 + ecc_del_tiempo + 4*(long_meridian-long_ubicacion)/24/60\n",
    "    # convert to datetime\n",
    "    tsv = datetime.datetime(hora_local_std.year, hora_local_std.month, hora_local_std.day, int(tsv/60), int(tsv%60), int((tsv%1)*60), tzinfo=pytz.timezone(utc))\n",
    "\n",
    "    return tsv2\n",
    "\n"
   ]
  },
  {
   "cell_type": "code",
   "execution_count": 11,
   "metadata": {},
   "outputs": [],
   "source": [
    "fecha1 = datetime(2023, 1, 1, 10, 0, 0)"
   ]
  },
  {
   "cell_type": "code",
   "execution_count": 17,
   "metadata": {},
   "outputs": [
    {
     "data": {
      "text/plain": [
       "datetime.datetime(2023, 1, 1, 10, 20, 42, tzinfo=<DstTzInfo 'America/Argentina/Buenos_Aires' LMT-1 day, 20:06:00 STD>)"
      ]
     },
     "execution_count": 17,
     "metadata": {},
     "output_type": "execute_result"
    }
   ],
   "source": [
    "utc= 'America/Argentina/Buenos_Aires'\n",
    "hora_local_std = fecha1\n",
    "ecc_del_tiempo= Et\n",
    "long_meridian= ls\n",
    "long_ubicacion= le\n",
    "\n",
    "hora_local_std = hora_local_std.replace(tzinfo=pytz.timezone(utc))\n",
    "# compute the TSV in minutes\n",
    "tsv = hora_local_std.hour*60 + hora_local_std.minute + hora_local_std.second/60 + ecc_del_tiempo + 4*(long_meridian-long_ubicacion)\n",
    "# convert to datetime\n",
    "tsv = datetime(hora_local_std.year, hora_local_std.month, hora_local_std.day, int(tsv/60), int(tsv%60), int((tsv%1)*60), tzinfo=pytz.timezone(utc))\n",
    "\n",
    "\n",
    "# Tsolar = tsv2(hora_local_std = fecha1, utc= 'America/Argentina/Buenos_Aires', ecc_del_tiempo= Et, long_meridian= ls, long_ubicacion= le )\n",
    "\n",
    "# Tsolar\n",
    "tsv"
   ]
  },
  {
   "cell_type": "code",
   "execution_count": 9,
   "metadata": {},
   "outputs": [
    {
     "data": {
      "text/plain": [
       "20.70000000000001"
      ]
     },
     "execution_count": 9,
     "metadata": {},
     "output_type": "execute_result"
    }
   ],
   "source": [
    "# 4(Ls -le) + Et\n",
    "\n",
    "\"\"\"\"\n",
    "la parte entera son los minutos = 20 \n",
    "\n",
    "la decimal se obtiene con la regla 3 simple:   1 = 60 seg\n",
    "\"\"\"\n",
    "\n",
    "4*(60-58.48) + 14.62"
   ]
  },
  {
   "attachments": {},
   "cell_type": "markdown",
   "metadata": {},
   "source": [
    "## Continuación de la validación"
   ]
  },
  {
   "cell_type": "code",
   "execution_count": 12,
   "metadata": {},
   "outputs": [],
   "source": [
    "# Angulo horario_:\n",
    "\n",
    "Tsolar = hra = datetime(2023, 10, 16, 10, 20, 41)  # creación de un TSV para la validacion:\n",
    "\n",
    "Ahrs = pvu.angulo_horario(tsv= Tsolar, unit='rad')"
   ]
  },
  {
   "cell_type": "code",
   "execution_count": 10,
   "metadata": {},
   "outputs": [],
   "source": [
    "# Declinación Solar_:\n",
    "\n",
    "DecSol  = pvu.declinacion_solar(angulo_diario = Adia)\n"
   ]
  },
  {
   "cell_type": "code",
   "execution_count": 16,
   "metadata": {},
   "outputs": [],
   "source": [
    "# cos_Sza_:\n",
    "\n",
    "CosZA = pvu.cos_sza(latitude= le, hour_angle=Ahrs , solar_declination= DecSol)\n"
   ]
  },
  {
   "cell_type": "code",
   "execution_count": 20,
   "metadata": {},
   "outputs": [],
   "source": [
    "# ángulo cenital_:\n",
    "\n",
    "SZA = pvu.sza(CosZA, unit='rad')"
   ]
  },
  {
   "cell_type": "code",
   "execution_count": 23,
   "metadata": {},
   "outputs": [],
   "source": [
    "# Distancia Tierra sol_:\n",
    "\n",
    "Tir_Sol = pvu.distancia_tierra_sol(angulo_diario = Adia)"
   ]
  },
  {
   "cell_type": "code",
   "execution_count": 24,
   "metadata": {},
   "outputs": [
    {
     "data": {
      "text/plain": [
       "'\\nnota:\\n\\nla iiradiancia extraterrestes es constante, por tanto, peude ser un numero fijo en \"1367\" \\n\\n'"
      ]
     },
     "execution_count": 24,
     "metadata": {},
     "output_type": "execute_result"
    }
   ],
   "source": [
    "# Irradiancia Solar_: \n",
    "\n",
    "Io = pvu.irradiancia_extra_sup_horizontal(irradiacion_extraterrestre = 1367,distancia_tierra_sol= Tir_Sol, cos_zsa = CosZA)\n",
    "\n",
    "\n",
    "\"\"\"\n",
    "nota:\n",
    "\n",
    "la iiradiancia extraterrestes es constante, por tanto, peude ser un numero fijo en \"1367\" \n",
    "\n",
    "\"\"\"\n"
   ]
  }
 ],
 "metadata": {
  "kernelspec": {
   "display_name": "base",
   "language": "python",
   "name": "python3"
  },
  "language_info": {
   "codemirror_mode": {
    "name": "ipython",
    "version": 3
   },
   "file_extension": ".py",
   "mimetype": "text/x-python",
   "name": "python",
   "nbconvert_exporter": "python",
   "pygments_lexer": "ipython3",
   "version": "3.9.13"
  },
  "orig_nbformat": 4
 },
 "nbformat": 4,
 "nbformat_minor": 2
}
