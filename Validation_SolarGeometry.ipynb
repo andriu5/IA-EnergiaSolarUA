{
 "cells": [
  {
   "cell_type": "code",
   "execution_count": 2,
   "metadata": {},
   "outputs": [],
   "source": [
    "from pvutils import pvutils as pvu\n",
    "import math\n",
    "# import datetime\n",
    "import pytz\n",
    "from datetime import datetime\n",
    "import numpy as np\n",
    "import pandas as pd\n",
    "# ejemplo: America/Vancouver'"
   ]
  },
  {
   "cell_type": "code",
   "execution_count": 10,
   "metadata": {},
   "outputs": [
    {
     "data": {
      "text/plain": [
       "Timestamp('2023-10-16 12:00:00')"
      ]
     },
     "execution_count": 10,
     "metadata": {},
     "output_type": "execute_result"
    }
   ],
   "source": [
    "# Parametro de ejemplo_:\n",
    "\n",
    "# Buenos Aires\n",
    "ls = 60    # longitud meridiana\n",
    "le= 58.48  # 58°29' W\n",
    "\n",
    "\n",
    "# fecha1 = pd.date_range('2023-10-16 12:00:00', '2023-10-16 12:00:00')\n",
    "\n",
    "fecha1 = pd.to_datetime('2023-10-16 12:00:00', format='%Y-%m-%d %H:%M:%S')\n",
    "\n",
    "\n",
    "fecha1\n",
    "\n"
   ]
  },
  {
   "cell_type": "code",
   "execution_count": 11,
   "metadata": {},
   "outputs": [],
   "source": [
    "# Día juviano_:\n",
    "\n",
    "# for fecha0 in fecha1:\n",
    "#     print(pvu.julian_day(fecha0,TZ='America/Vancouver')) # dia del año\n",
    "\n",
    "\n",
    "Dj = pvu.julian_day(fecha1,TZ='America/Vancouver') # dia del año\n"
   ]
  },
  {
   "cell_type": "code",
   "execution_count": 12,
   "metadata": {},
   "outputs": [],
   "source": [
    "# Ángulo diario_:\n",
    "\n",
    "# for fecha0 in fecha1:\n",
    "#     print(pvu.angulo_diario(fecha0,unit='rad'))\n",
    "\n",
    "Adia = pvu.angulo_diario(fecha1,unit='rad')"
   ]
  },
  {
   "cell_type": "code",
   "execution_count": 13,
   "metadata": {},
   "outputs": [],
   "source": [
    "# Ecuacion del tiempo_:\n",
    "\n",
    "# for fecha0 in fecha1:\n",
    "#     print(pvu.ecc_del_tiempo(pvu.angulo_diario(fecha0,unit='rad')))\n",
    "\n",
    "Et = pvu.ecc_del_tiempo(Adia,unit='rad')\n"
   ]
  },
  {
   "cell_type": "code",
   "execution_count": 7,
   "metadata": {},
   "outputs": [],
   "source": [
    "# # fecha1.hour\n",
    "# # a=[]\n",
    "# # for fecha0 in fecha1:\n",
    "# a= ecc_del_tiempo2(pvu.angulo_diario(datetime(2022, 10, 16, 11, 0, 0),unit='rad'));a"
   ]
  },
  {
   "cell_type": "code",
   "execution_count": 8,
   "metadata": {},
   "outputs": [
    {
     "data": {
      "text/plain": [
       "Timedelta('0 days 10:00:00')"
      ]
     },
     "execution_count": 8,
     "metadata": {},
     "output_type": "execute_result"
    }
   ],
   "source": [
    "hra = pd.to_timedelta(\"10:00:00\")\n",
    "\n",
    "# hra = fecha1.hour\n",
    "\n",
    "hra\n"
   ]
  },
  {
   "cell_type": "code",
   "execution_count": 9,
   "metadata": {},
   "outputs": [
    {
     "ename": "AttributeError",
     "evalue": "'Timedelta' object has no attribute 'replace'",
     "output_type": "error",
     "traceback": [
      "\u001b[1;31m---------------------------------------------------------------------------\u001b[0m",
      "\u001b[1;31mAttributeError\u001b[0m                            Traceback (most recent call last)",
      "\u001b[1;32m~\\AppData\\Local\\Temp\\ipykernel_2244\\4252502663.py\u001b[0m in \u001b[0;36m<module>\u001b[1;34m\u001b[0m\n\u001b[0;32m      3\u001b[0m \u001b[1;31m# Tsolar = pvu.tiempo_solar_verdadero(hora_local_std = hra, utc= 'America/Vancouver', ecc_del_tiempo= Et, long_meridian= ls, long_ubicacion= le )\u001b[0m\u001b[1;33m\u001b[0m\u001b[1;33m\u001b[0m\u001b[0m\n\u001b[0;32m      4\u001b[0m \u001b[1;33m\u001b[0m\u001b[0m\n\u001b[1;32m----> 5\u001b[1;33m \u001b[0mTsolar\u001b[0m \u001b[1;33m=\u001b[0m \u001b[0mpvu\u001b[0m\u001b[1;33m.\u001b[0m\u001b[0mtsv\u001b[0m\u001b[1;33m(\u001b[0m\u001b[0mhora_local_std\u001b[0m \u001b[1;33m=\u001b[0m \u001b[0mhra\u001b[0m\u001b[1;33m,\u001b[0m \u001b[0mutc\u001b[0m\u001b[1;33m=\u001b[0m \u001b[1;34m'America/Vancouver'\u001b[0m\u001b[1;33m,\u001b[0m \u001b[0mecc_del_tiempo\u001b[0m\u001b[1;33m=\u001b[0m \u001b[0mEt\u001b[0m\u001b[1;33m,\u001b[0m \u001b[0mlong_meridian\u001b[0m\u001b[1;33m=\u001b[0m \u001b[0mls\u001b[0m\u001b[1;33m,\u001b[0m \u001b[0mlong_ubicacion\u001b[0m\u001b[1;33m=\u001b[0m \u001b[0mle\u001b[0m \u001b[1;33m)\u001b[0m\u001b[1;33m\u001b[0m\u001b[1;33m\u001b[0m\u001b[0m\n\u001b[0m",
      "\u001b[1;32mc:\\Users\\mtrig\\Documents\\P1_CDEA\\IA-EnergiaSolarUA\\pvutils\\pvutils.py\u001b[0m in \u001b[0;36mtsv\u001b[1;34m(hora_local_std, utc, ecc_del_tiempo, long_meridian, long_ubicacion)\u001b[0m\n\u001b[0;32m     72\u001b[0m         \u001b[0mtiempo_solar_verdadero\u001b[0m\u001b[1;33m:\u001b[0m \u001b[0mtiempo\u001b[0m \u001b[0msolar\u001b[0m \u001b[0mverdadero\u001b[0m \u001b[1;33m(\u001b[0m\u001b[0mdatetime\u001b[0m\u001b[1;33m)\u001b[0m\u001b[1;33m\u001b[0m\u001b[1;33m\u001b[0m\u001b[0m\n\u001b[0;32m     73\u001b[0m     \"\"\"\n\u001b[1;32m---> 74\u001b[1;33m     \u001b[0mhora_local_std\u001b[0m \u001b[1;33m=\u001b[0m \u001b[0mhora_local_std\u001b[0m\u001b[1;33m.\u001b[0m\u001b[0mreplace\u001b[0m\u001b[1;33m(\u001b[0m\u001b[0mtzinfo\u001b[0m\u001b[1;33m=\u001b[0m\u001b[0mpytz\u001b[0m\u001b[1;33m.\u001b[0m\u001b[0mtimezone\u001b[0m\u001b[1;33m(\u001b[0m\u001b[0mutc\u001b[0m\u001b[1;33m)\u001b[0m\u001b[1;33m)\u001b[0m\u001b[1;33m\u001b[0m\u001b[1;33m\u001b[0m\u001b[0m\n\u001b[0m\u001b[0;32m     75\u001b[0m     \u001b[1;31m# compute the TSV in minutes\u001b[0m\u001b[1;33m\u001b[0m\u001b[1;33m\u001b[0m\u001b[0m\n\u001b[0;32m     76\u001b[0m     \u001b[0mtsv\u001b[0m \u001b[1;33m=\u001b[0m \u001b[0mhora_local_std\u001b[0m\u001b[1;33m.\u001b[0m\u001b[0mhour\u001b[0m\u001b[1;33m*\u001b[0m\u001b[1;36m60\u001b[0m \u001b[1;33m+\u001b[0m \u001b[0mhora_local_std\u001b[0m\u001b[1;33m.\u001b[0m\u001b[0mminute\u001b[0m \u001b[1;33m+\u001b[0m \u001b[0mhora_local_std\u001b[0m\u001b[1;33m.\u001b[0m\u001b[0msecond\u001b[0m\u001b[1;33m/\u001b[0m\u001b[1;36m60\u001b[0m \u001b[1;33m+\u001b[0m \u001b[0mecc_del_tiempo\u001b[0m \u001b[1;33m+\u001b[0m \u001b[1;36m4\u001b[0m\u001b[1;33m*\u001b[0m\u001b[1;33m(\u001b[0m\u001b[0mlong_meridian\u001b[0m\u001b[1;33m-\u001b[0m\u001b[0mlong_ubicacion\u001b[0m\u001b[1;33m)\u001b[0m\u001b[1;33m/\u001b[0m\u001b[1;36m24\u001b[0m\u001b[1;33m/\u001b[0m\u001b[1;36m60\u001b[0m\u001b[1;33m\u001b[0m\u001b[1;33m\u001b[0m\u001b[0m\n",
      "\u001b[1;31mAttributeError\u001b[0m: 'Timedelta' object has no attribute 'replace'"
     ]
    }
   ],
   "source": [
    "# Tiempo Solar Verdadero_:\n",
    "\n",
    "# Tsolar = pvu.tiempo_solar_verdadero(hora_local_std = hra, utc= 'America/Vancouver', ecc_del_tiempo= Et, long_meridian= ls, long_ubicacion= le )\n",
    "\n",
    "Tsolar = pvu.tsv(hora_local_std = hra, utc= 'America/Vancouver', ecc_del_tiempo= Et, long_meridian= ls, long_ubicacion= le )"
   ]
  },
  {
   "cell_type": "code",
   "execution_count": 3,
   "metadata": {},
   "outputs": [],
   "source": [
    "def tiempo_solar_verdadero2(hora_local_std: datetime, utc: str, ecc_del_tiempo: float, long_meridian: float, long_ubicacion: float) -> float:\n",
    "    \"\"\"\n",
    "    Calcula el tiempo solar verdadero (TSV) para una hora local dada.\n",
    "\n",
    "    Args:\n",
    "        hora_local: hora local (datetime)\n",
    "        utc: zona horaria, valor por defecto 'UTC'\n",
    "        ecc_del_tiempo: ecuación del tiempo (minutos)\n",
    "        long_meridian: longitud del meridiano (grados o radianes)\n",
    "        long_ubicacion: longitud de la ubicación (grados o radianes)\n",
    "        unit: unidades del ángulo ('deg' para grados o 'rad' para radianes)\n",
    "    Returns:\n",
    "        tiempo_solar_verdadero: tiempo solar verdadero (datetime)\n",
    "    \"\"\"\n",
    "    tsv = hora_local_std.hour*60 + hora_local_std.minute + hora_local_std.second/60 + ecc_del_tiempo + 4*(long_meridian-long_ubicacion)/24/60\n",
    "    return tsv"
   ]
  },
  {
   "cell_type": "code",
   "execution_count": 58,
   "metadata": {},
   "outputs": [
    {
     "ename": "AttributeError",
     "evalue": "'Timedelta' object has no attribute 'hour'",
     "output_type": "error",
     "traceback": [
      "\u001b[1;31m---------------------------------------------------------------------------\u001b[0m",
      "\u001b[1;31mAttributeError\u001b[0m                            Traceback (most recent call last)",
      "\u001b[1;32m~\\AppData\\Local\\Temp\\ipykernel_4212\\2249498715.py\u001b[0m in \u001b[0;36m<module>\u001b[1;34m\u001b[0m\n\u001b[0;32m     21\u001b[0m \u001b[1;33m\u001b[0m\u001b[0m\n\u001b[0;32m     22\u001b[0m \u001b[1;33m\u001b[0m\u001b[0m\n\u001b[1;32m---> 23\u001b[1;33m \u001b[0mpvu\u001b[0m\u001b[1;33m.\u001b[0m\u001b[0mangulo_horario\u001b[0m\u001b[1;33m(\u001b[0m\u001b[0mtsv\u001b[0m\u001b[1;33m=\u001b[0m \u001b[0mts\u001b[0m\u001b[1;33m,\u001b[0m \u001b[0munit\u001b[0m\u001b[1;33m=\u001b[0m\u001b[1;34m'rad'\u001b[0m\u001b[1;33m)\u001b[0m\u001b[1;33m\u001b[0m\u001b[1;33m\u001b[0m\u001b[0m\n\u001b[0m",
      "\u001b[1;32mc:\\Users\\mtrig\\Documents\\P1_CDEA\\IA-EnergiaSolarUA\\pvutils\\pvutils.py\u001b[0m in \u001b[0;36mangulo_horario\u001b[1;34m(tsv, unit)\u001b[0m\n\u001b[0;32m     87\u001b[0m         \u001b[0mangulo_horario\u001b[0m\u001b[1;33m:\u001b[0m \u001b[0mángulo\u001b[0m \u001b[0mhorario\u001b[0m \u001b[1;33m(\u001b[0m\u001b[0mgrados\u001b[0m \u001b[0mo\u001b[0m \u001b[0mradianes\u001b[0m\u001b[1;33m)\u001b[0m\u001b[1;33m\u001b[0m\u001b[1;33m\u001b[0m\u001b[0m\n\u001b[0;32m     88\u001b[0m     \"\"\"\n\u001b[1;32m---> 89\u001b[1;33m     \u001b[0mangulo_horario\u001b[0m \u001b[1;33m=\u001b[0m \u001b[1;36m15\u001b[0m\u001b[1;33m*\u001b[0m\u001b[1;33m(\u001b[0m\u001b[1;36m12\u001b[0m \u001b[1;33m-\u001b[0m \u001b[0mtsv\u001b[0m\u001b[1;33m.\u001b[0m\u001b[0mhour\u001b[0m \u001b[1;33m+\u001b[0m \u001b[0mtsv\u001b[0m\u001b[1;33m.\u001b[0m\u001b[0mminute\u001b[0m\u001b[1;33m/\u001b[0m\u001b[1;36m60\u001b[0m \u001b[1;33m+\u001b[0m \u001b[0mtsv\u001b[0m\u001b[1;33m.\u001b[0m\u001b[0msecond\u001b[0m\u001b[1;33m/\u001b[0m\u001b[1;36m3600\u001b[0m\u001b[1;33m)\u001b[0m\u001b[1;33m\u001b[0m\u001b[1;33m\u001b[0m\u001b[0m\n\u001b[0m\u001b[0;32m     90\u001b[0m     \u001b[1;32mif\u001b[0m \u001b[0munit\u001b[0m \u001b[1;33m==\u001b[0m \u001b[1;34m'deg'\u001b[0m\u001b[1;33m:\u001b[0m\u001b[1;33m\u001b[0m\u001b[1;33m\u001b[0m\u001b[0m\n\u001b[0;32m     91\u001b[0m         \u001b[0mangulo_horario\u001b[0m \u001b[1;33m=\u001b[0m \u001b[0mmath\u001b[0m\u001b[1;33m.\u001b[0m\u001b[0mdegrees\u001b[0m\u001b[1;33m(\u001b[0m\u001b[0mangulo_horario\u001b[0m\u001b[1;33m)\u001b[0m\u001b[1;33m\u001b[0m\u001b[1;33m\u001b[0m\u001b[0m\n",
      "\u001b[1;31mAttributeError\u001b[0m: 'Timedelta' object has no attribute 'hour'"
     ]
    }
   ],
   "source": [
    "# Angulo horario_:\n",
    "\n",
    "def angulo_horario(tsv: datetime, unit='rad') -> float:\n",
    "    \"\"\"\n",
    "    Calcula el ángulo horario (HRA) para un tiempo solar verdadero dado.\n",
    "\n",
    "    Args:\n",
    "        tsv: tiempo solar verdadero (datetime)\n",
    "        unit: unidades del ángulo ('deg' para grados o 'rad' para radianes)\n",
    "    Returns:\n",
    "        angulo_horario: ángulo horario (grados o radianes)\n",
    "    \"\"\"\n",
    "    angulo_horario = 15*(12 - tsv.hour + tsv.minute/60 + tsv.second/3600)\n",
    "    if unit == 'deg':\n",
    "        angulo_horario = math.degrees(angulo_horario)\n",
    "    return angulo_horario\n",
    "\n",
    "\n",
    "\n",
    "ts = hra\n",
    "\n",
    "\n",
    "pvu.angulo_horario(tsv= ts, unit='rad')"
   ]
  },
  {
   "cell_type": "code",
   "execution_count": null,
   "metadata": {},
   "outputs": [],
   "source": []
  },
  {
   "cell_type": "code",
   "execution_count": null,
   "metadata": {},
   "outputs": [],
   "source": []
  },
  {
   "cell_type": "code",
   "execution_count": null,
   "metadata": {},
   "outputs": [],
   "source": []
  }
 ],
 "metadata": {
  "kernelspec": {
   "display_name": "base",
   "language": "python",
   "name": "python3"
  },
  "language_info": {
   "codemirror_mode": {
    "name": "ipython",
    "version": 3
   },
   "file_extension": ".py",
   "mimetype": "text/x-python",
   "name": "python",
   "nbconvert_exporter": "python",
   "pygments_lexer": "ipython3",
   "version": "3.9.13"
  },
  "orig_nbformat": 4
 },
 "nbformat": 4,
 "nbformat_minor": 2
}
